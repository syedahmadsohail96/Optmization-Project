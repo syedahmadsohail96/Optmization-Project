{
 "cells": [
  {
   "cell_type": "markdown",
   "id": "99040205",
   "metadata": {},
   "source": [
    "# Resource tracking and managing cost is a modern-day idea of supply chain\n",
    "\n",
    "## By, Syed Ahmad Sohail (30136229)\n"
   ]
  },
  {
   "cell_type": "markdown",
   "id": "f3121947",
   "metadata": {},
   "source": [
    "## Summary\n",
    "Tracking of resources and managing cost is a modern-day idea of supply chain. The project will comprise of data where the cost of inbound and outbound are used to optimize transportation cost to be minimum, while meeting the needs of the customer. Usually, packages are not shipped from the nearest distribution centre which impacts the overall transportation cost. This is done using linear programming after which the plots will be discussed showing a comparison with the previous and optimised costs."
   ]
  },
  {
   "cell_type": "markdown",
   "id": "90dcb2cb",
   "metadata": {},
   "source": [
    "## Introduction <br>\n",
    "\n",
    "\n",
    "Supply chain has become a big part of running every business. Supply chain in a business can help in understanding how to track and use the resources while maximizing the value. It is usually defined as the value adding activities to which connects customers and suppliers to benifit both parties. Supply chain management is very important for the product value to be enhanced and expanding the business in advantage to the product and business's services. The market is very dynamic in today's world and in order to cope up with today's market, proper selection of suppliers, distribution and market is very important. In a supply chain world, managers try to understand the whole chain to make decisions at different levels. In this new era, optimization tools help managers see impact of optimization using models or make decisions based on it. \n",
    "<img src=\"supply_chain_model.png\">\n",
    "<br>\n",
    "The idea of the optimization model is to keep all the constraints in place just to optimize the best solution around it. As seen in the figure above, F is the output where it calculated the total cost or in the case of this project, cost per distribution that is optimized. The whole is is to balance the supply and demant where min cost is required. Supply chain optimization help achieve the following: <br>\n",
    "1- Inventory rurplus to be reduced. <br>\n",
    "2- Logistics cost to be reduced. <br>\n",
    "3- Better overview and improved availability due to better customer service. <br>\n",
    "4- Supply chain issues to be dealt with in time and more time to look over market disruption. <br>\n",
    "5- Onboarding and collaboration is simplified with optimization, provides better visualisation using past data. <br>\n",
    "6- It helps reduce lead times. <br>\n",
    "7- It helps to predict the business and helps in maintaining business continuity. <br>\n",
    "\n",
    "### Different kinds of supply chain problems\n",
    "\n",
    "#### The MCNF-VLB problem\n",
    "\n",
    "This is basically the minimum cost network flow problem in which there is fixed lower and uper bounds. This kind of problem is polynomial solvable. Then it is worked with by making the lower bound variable with arc to either be closed or open. If arc is not enough to justify the operation, the distribution channel may be closed in many cases. This unmistakable element permits the MCNF-VLB to have all the more extensively functional applications in supply chain distribution regions, e.g., minimizing the absolute expense for transportation by means of oil pipeline/carrier network where a few pipelines/flight-legs must be shut if the flow/traveler volumes are not exactly their edge esteems.\n",
    "\n",
    "#### The data prefecthing problem\n",
    "\n",
    "The model has the goal of minimizing the reserve miss level (backorder level), which addresses the entrance inactivity, just as limitations on the reserve space (inventory space) and the total prefetching frequency (total order frequency). Exceptionally, the plate access time (lead time) is a component of both the prefetching degree Q and the total solicitation rate that addresses the framework load. This model builds a unique constrained multistream (Q, r) model which simultaneously determines the order quantity Q and reorder point r for each request stream, taking into account the distinct data request rates of the streams. The model has the objective of minimizing the cache backorder level, which represents the access latency, as well as constraints on the inventory space and the total order frequency.\n",
    "\n",
    "#### The joint capacity and demand allocation problem\n",
    "\n",
    "This kind of model problem is for a service delivery network in supply chain. This kind of problem have alot of operations in supply chain management where in-time delivery and cost effectiveness is considered. The goal of this model is to understand the data of each facility's capacity and demand in order to minimize the operating and transpostation cost with time constaints. Average waiting time is also considered of the customer with optimal solution for the system performance. In this model, by performing the numerical optimization, the demand allocation and allocation strategy is also calculated. This model is usually extended to simulations for managers to predict the output under different conditions.\n",
    "\n",
    "\n",
    "\n",
    "\n",
    "### Problem Description\n",
    "-As part of the job of supply planning manager, reviews have come out that the transportation cost are quite up of the manufacturing company. <br>\n",
    "-Transportation manager's analysis shows that this is mainly because of stock allocation in the distribution. <br>\n",
    "-Distance vary with different distribution centres and distribution to customer distance is not always the shortest so the cost is high.<br>\n",
    "<img src=\"supply_chain_prob.png\">\n",
    "### Problem Formulation\n",
    "-2 Plants that produce infinite number of product(can be any product). <br>\n",
    "-2 distribution centres of warehouses where the finished product come and then delivered to the customers. <br>\n",
    "-This includes 200 stored or delivery points where the product would be delivered. <br>\n",
    "The above three points are the assumptions for the project to be implemented.\n",
    "#### Notations\n",
    "$$P_{i}= Plant [1,2]$$\n",
    "$$D_{i}= Distribution[1,2]$$\n",
    "$$S_{i}= Store [1,200]$$\n",
    "$$D_{P}= Demand(Store)$$ \n",
    "#### Transportation Cost\n",
    "$$I_{n,p}= Quantity(Plant(n)->Distribution(p))$$ \n",
    "$$O_{n,p}= Quantity(Distribution(n)->Store(p))$$ \n",
    "$$IC_{n,p}= Inbound(Plant(n)->Distribution(p))$$ \n",
    "$$OC_{n,p}= Outbound(Distribution(n)->Store(p))$$ \n",
    "\n",
    "\n",
    "\n"
   ]
  },
  {
   "cell_type": "markdown",
   "id": "30a48fa8",
   "metadata": {},
   "source": [
    "## Methodology <br>\n",
    "In this project, PuLP liberary is used which is open-source linear programming (LP) package and comes with alot of industry standard solvers. Using the objective function and considering the constraints, minimization is done.\n",
    "\n",
    "### Objective Function\n",
    "\n",
    "$$ TC= \\sum \\limits_{n=1}^{n=2}\\sum \\limits_{p=1}^{p=2}IC_{n,p}*I_{n,p}+\\sum \\limits_{n=1}^{n=2}\\sum \\limits_{p=1}^{p=200}OC_{n,p}*O_{n,p} $$\n",
    "The above function needs to be Minimized using Linear programming\n",
    "\n",
    "### Constaints\n",
    "\n",
    "The total number of units from Distribution to store should always be higher or equal to the demand. <br>\n",
    "$$\\sum \\limits_{n=1}^{n=2} O_{n,p} >= D_{P}$$\n",
    "The Total supply from the Distribution centre should meet the demand i.e. Supply flow is met.\n",
    "$$\\sum \\limits_{n=1}^{n=2} I_{n,p} = \\sum \\limits_{n=1}^{n=2} O_{n,p}$$"
   ]
  },
  {
   "cell_type": "markdown",
   "id": "9eb5697e",
   "metadata": {},
   "source": [
    "## Methodology <br>\n",
    "In this project, PuLP liberary is used which is open-source linear programming (LP) package and comes with alot of industry standard solvers. Using the objective function and considering the constraints, minimization is done.\n",
    "\n",
    "### Objective Function\n",
    "\n",
    "$$ TC= \\sum \\limits_{n=1}^{n=2}\\sum \\limits_{p=1}^{p=2}IC_{n,p}*I_{n,p}+\\sum \\limits_{n=1}^{n=2}\\sum \\limits_{p=1}^{p=200}OC_{n,p}*O_{n,p} $$\n",
    "The above function needs to be Minimized using Linear programming\n",
    "\n",
    "### Constaints\n",
    "\n",
    "The total number of units from Distribution to store should always be higher or equal to the demand. <br>\n",
    "$$\\sum \\limits_{n=1}^{n=2} O_{n,p} >= D_{P}$$\n",
    "The Total supply from the Distribution centre should meet the demand i.e. Supply flow is met.\n",
    "$$\\sum \\limits_{n=1}^{n=2} I_{n,p} = \\sum \\limits_{n=1}^{n=2} O_{n,p}$$"
   ]
  },
  {
   "cell_type": "markdown",
   "id": "82869bf0",
   "metadata": {},
   "source": [
    "### Code"
   ]
  },
  {
   "cell_type": "markdown",
   "id": "5261e478",
   "metadata": {},
   "source": [
    "#### import\n"
   ]
  },
  {
   "cell_type": "code",
   "execution_count": 3,
   "id": "9042b9c2",
   "metadata": {},
   "outputs": [],
   "source": [
    "import pandas as pd\n",
    "from pulp import *\n",
    "import numpy as np\n",
    "np.random.seed(0)"
   ]
  },
  {
   "cell_type": "markdown",
   "id": "64cfb759",
   "metadata": {},
   "source": [
    "#### Inbound Costs"
   ]
  },
  {
   "cell_type": "code",
   "execution_count": 4,
   "id": "badf088d",
   "metadata": {},
   "outputs": [
    {
     "data": {
      "text/html": [
       "<div>\n",
       "<style scoped>\n",
       "    .dataframe tbody tr th:only-of-type {\n",
       "        vertical-align: middle;\n",
       "    }\n",
       "\n",
       "    .dataframe tbody tr th {\n",
       "        vertical-align: top;\n",
       "    }\n",
       "\n",
       "    .dataframe thead th {\n",
       "        text-align: right;\n",
       "    }\n",
       "</style>\n",
       "<table border=\"1\" class=\"dataframe\">\n",
       "  <thead>\n",
       "    <tr style=\"text-align: right;\">\n",
       "      <th></th>\n",
       "      <th>FROM</th>\n",
       "      <th>D1</th>\n",
       "      <th>D2</th>\n",
       "    </tr>\n",
       "  </thead>\n",
       "  <tbody>\n",
       "    <tr>\n",
       "      <th>0</th>\n",
       "      <td>P1</td>\n",
       "      <td>3.0</td>\n",
       "      <td>5.0</td>\n",
       "    </tr>\n",
       "    <tr>\n",
       "      <th>1</th>\n",
       "      <td>P2</td>\n",
       "      <td>2.3</td>\n",
       "      <td>6.6</td>\n",
       "    </tr>\n",
       "  </tbody>\n",
       "</table>\n",
       "</div>"
      ],
      "text/plain": [
       "  FROM   D1   D2\n",
       "0   P1  3.0  5.0\n",
       "1   P2  2.3  6.6"
      ]
     },
     "execution_count": 4,
     "metadata": {},
     "output_type": "execute_result"
    }
   ],
   "source": [
    "df_inbound = pd.read_csv('df_inprice.csv', index_col = 0)\n",
    "df_inbound"
   ]
  },
  {
   "cell_type": "markdown",
   "id": "2af742c6",
   "metadata": {},
   "source": [
    "#### Outbound Costs"
   ]
  },
  {
   "cell_type": "code",
   "execution_count": 5,
   "id": "37a3afc6",
   "metadata": {},
   "outputs": [
    {
     "data": {
      "text/html": [
       "<div>\n",
       "<style scoped>\n",
       "    .dataframe tbody tr th:only-of-type {\n",
       "        vertical-align: middle;\n",
       "    }\n",
       "\n",
       "    .dataframe tbody tr th {\n",
       "        vertical-align: top;\n",
       "    }\n",
       "\n",
       "    .dataframe thead th {\n",
       "        text-align: right;\n",
       "    }\n",
       "</style>\n",
       "<table border=\"1\" class=\"dataframe\">\n",
       "  <thead>\n",
       "    <tr style=\"text-align: right;\">\n",
       "      <th></th>\n",
       "      <th>from</th>\n",
       "      <th>S1</th>\n",
       "      <th>S2</th>\n",
       "      <th>S3</th>\n",
       "      <th>S4</th>\n",
       "      <th>S5</th>\n",
       "      <th>S6</th>\n",
       "      <th>S7</th>\n",
       "      <th>S8</th>\n",
       "      <th>S9</th>\n",
       "      <th>...</th>\n",
       "      <th>S191</th>\n",
       "      <th>S192</th>\n",
       "      <th>S193</th>\n",
       "      <th>S194</th>\n",
       "      <th>S195</th>\n",
       "      <th>S196</th>\n",
       "      <th>S197</th>\n",
       "      <th>S198</th>\n",
       "      <th>S199</th>\n",
       "      <th>S200</th>\n",
       "    </tr>\n",
       "  </thead>\n",
       "  <tbody>\n",
       "    <tr>\n",
       "      <th>0</th>\n",
       "      <td>D1</td>\n",
       "      <td>2.30</td>\n",
       "      <td>4.23</td>\n",
       "      <td>2.26</td>\n",
       "      <td>3.38</td>\n",
       "      <td>1.59</td>\n",
       "      <td>2.01</td>\n",
       "      <td>5.32</td>\n",
       "      <td>6.63</td>\n",
       "      <td>2.38</td>\n",
       "      <td>...</td>\n",
       "      <td>5.86</td>\n",
       "      <td>8.30</td>\n",
       "      <td>3.02</td>\n",
       "      <td>1.01</td>\n",
       "      <td>2.77</td>\n",
       "      <td>2.96</td>\n",
       "      <td>3.53</td>\n",
       "      <td>8.60</td>\n",
       "      <td>2.77</td>\n",
       "      <td>7.06</td>\n",
       "    </tr>\n",
       "    <tr>\n",
       "      <th>1</th>\n",
       "      <td>D2</td>\n",
       "      <td>5.31</td>\n",
       "      <td>2.18</td>\n",
       "      <td>8.52</td>\n",
       "      <td>8.34</td>\n",
       "      <td>4.59</td>\n",
       "      <td>1.04</td>\n",
       "      <td>1.89</td>\n",
       "      <td>6.45</td>\n",
       "      <td>8.35</td>\n",
       "      <td>...</td>\n",
       "      <td>7.54</td>\n",
       "      <td>2.11</td>\n",
       "      <td>4.33</td>\n",
       "      <td>1.54</td>\n",
       "      <td>4.75</td>\n",
       "      <td>7.84</td>\n",
       "      <td>8.21</td>\n",
       "      <td>4.51</td>\n",
       "      <td>3.27</td>\n",
       "      <td>3.13</td>\n",
       "    </tr>\n",
       "  </tbody>\n",
       "</table>\n",
       "<p>2 rows × 201 columns</p>\n",
       "</div>"
      ],
      "text/plain": [
       "  from    S1    S2    S3    S4    S5    S6    S7    S8    S9  ...  S191  S192  \\\n",
       "0   D1  2.30  4.23  2.26  3.38  1.59  2.01  5.32  6.63  2.38  ...  5.86  8.30   \n",
       "1   D2  5.31  2.18  8.52  8.34  4.59  1.04  1.89  6.45  8.35  ...  7.54  2.11   \n",
       "\n",
       "   S193  S194  S195  S196  S197  S198  S199  S200  \n",
       "0  3.02  1.01  2.77  2.96  3.53  8.60  2.77  7.06  \n",
       "1  4.33  1.54  4.75  7.84  8.21  4.51  3.27  3.13  \n",
       "\n",
       "[2 rows x 201 columns]"
      ]
     },
     "execution_count": 5,
     "metadata": {},
     "output_type": "execute_result"
    }
   ],
   "source": [
    "df_outbound = pd.read_csv('df_outprice.csv', index_col = 0)\n",
    "df_outbound"
   ]
  },
  {
   "cell_type": "code",
   "execution_count": 6,
   "id": "8a43d976",
   "metadata": {},
   "outputs": [
    {
     "name": "stdout",
     "output_type": "stream",
     "text": [
      "400 records\n"
     ]
    },
    {
     "data": {
      "text/html": [
       "<div>\n",
       "<style scoped>\n",
       "    .dataframe tbody tr th:only-of-type {\n",
       "        vertical-align: middle;\n",
       "    }\n",
       "\n",
       "    .dataframe tbody tr th {\n",
       "        vertical-align: top;\n",
       "    }\n",
       "\n",
       "    .dataframe thead th {\n",
       "        text-align: right;\n",
       "    }\n",
       "</style>\n",
       "<table border=\"1\" class=\"dataframe\">\n",
       "  <thead>\n",
       "    <tr style=\"text-align: right;\">\n",
       "      <th></th>\n",
       "      <th>index</th>\n",
       "      <th>from</th>\n",
       "      <th>value</th>\n",
       "    </tr>\n",
       "  </thead>\n",
       "  <tbody>\n",
       "    <tr>\n",
       "      <th>0</th>\n",
       "      <td>S1</td>\n",
       "      <td>D1</td>\n",
       "      <td>2.30</td>\n",
       "    </tr>\n",
       "    <tr>\n",
       "      <th>1</th>\n",
       "      <td>S2</td>\n",
       "      <td>D1</td>\n",
       "      <td>4.23</td>\n",
       "    </tr>\n",
       "    <tr>\n",
       "      <th>2</th>\n",
       "      <td>S3</td>\n",
       "      <td>D1</td>\n",
       "      <td>2.26</td>\n",
       "    </tr>\n",
       "    <tr>\n",
       "      <th>3</th>\n",
       "      <td>S4</td>\n",
       "      <td>D1</td>\n",
       "      <td>3.38</td>\n",
       "    </tr>\n",
       "    <tr>\n",
       "      <th>4</th>\n",
       "      <td>S5</td>\n",
       "      <td>D1</td>\n",
       "      <td>1.59</td>\n",
       "    </tr>\n",
       "  </tbody>\n",
       "</table>\n",
       "</div>"
      ],
      "text/plain": [
       "  index from  value\n",
       "0    S1   D1   2.30\n",
       "1    S2   D1   4.23\n",
       "2    S3   D1   2.26\n",
       "3    S4   D1   3.38\n",
       "4    S5   D1   1.59"
      ]
     },
     "execution_count": 6,
     "metadata": {},
     "output_type": "execute_result"
    }
   ],
   "source": [
    "# Melting DataFrame\n",
    "df_melt = pd.melt(df_outbound.set_index('from').T.reset_index(), id_vars=['index'], value_vars=['D1', 'D2'])\n",
    "print(\"{:,} records\".format(len(df_melt)))\n",
    "df_melt.head()"
   ]
  },
  {
   "cell_type": "markdown",
   "id": "011815f9",
   "metadata": {},
   "source": [
    "#### Outbound Transportation Cost Box Plot"
   ]
  },
  {
   "cell_type": "code",
   "execution_count": 7,
   "id": "df7377c7",
   "metadata": {},
   "outputs": [
    {
     "data": {
      "image/png": "[encoded data removed]",
      "text/plain": [
       "<Figure size 864x432 with 1 Axes>"
      ]
     },
     "metadata": {
      "needs_background": "light"
     },
     "output_type": "display_data"
    }
   ],
   "source": [
    "import matplotlib.pyplot as plt\n",
    "import seaborn as sns\n",
    "plt.figure(figsize=(12, 6))\n",
    "ax = sns.boxplot(x='from', y='value', data=df_melt, color='#99c2a2')\n",
    "plt.xlabel('Distribution Center')\n",
    "plt.ylabel('Outbound Transportation Unit Costs ($/Carton)')\n",
    "plt.show()"
   ]
  },
  {
   "cell_type": "markdown",
   "id": "d810ec07",
   "metadata": {},
   "source": [
    "#### Production Plant Capacity"
   ]
  },
  {
   "cell_type": "code",
   "execution_count": 8,
   "id": "fe6d4fc6",
   "metadata": {},
   "outputs": [
    {
     "data": {
      "text/html": [
       "<div>\n",
       "<style scoped>\n",
       "    .dataframe tbody tr th:only-of-type {\n",
       "        vertical-align: middle;\n",
       "    }\n",
       "\n",
       "    .dataframe tbody tr th {\n",
       "        vertical-align: top;\n",
       "    }\n",
       "\n",
       "    .dataframe thead th {\n",
       "        text-align: right;\n",
       "    }\n",
       "</style>\n",
       "<table border=\"1\" class=\"dataframe\">\n",
       "  <thead>\n",
       "    <tr style=\"text-align: right;\">\n",
       "      <th></th>\n",
       "      <th>plant</th>\n",
       "      <th>max</th>\n",
       "    </tr>\n",
       "  </thead>\n",
       "  <tbody>\n",
       "    <tr>\n",
       "      <th>0</th>\n",
       "      <td>P1</td>\n",
       "      <td>200</td>\n",
       "    </tr>\n",
       "    <tr>\n",
       "      <th>1</th>\n",
       "      <td>P2</td>\n",
       "      <td>300</td>\n",
       "    </tr>\n",
       "  </tbody>\n",
       "</table>\n",
       "</div>"
      ],
      "text/plain": [
       "  plant  max\n",
       "0    P1  200\n",
       "1    P2  300"
      ]
     },
     "execution_count": 8,
     "metadata": {},
     "output_type": "execute_result"
    }
   ],
   "source": [
    "# Production capacity\n",
    "df_prod = pd.DataFrame({\n",
    "    'plant': ['P1','P2'],\n",
    "    'max': [200, 300],\n",
    "})[['plant', 'max']]\n",
    "df_prod"
   ]
  },
  {
   "cell_type": "code",
   "execution_count": 9,
   "id": "dea44f39",
   "metadata": {},
   "outputs": [
    {
     "data": {
      "text/html": [
       "<div>\n",
       "<style scoped>\n",
       "    .dataframe tbody tr th:only-of-type {\n",
       "        vertical-align: middle;\n",
       "    }\n",
       "\n",
       "    .dataframe tbody tr th {\n",
       "        vertical-align: top;\n",
       "    }\n",
       "\n",
       "    .dataframe thead th {\n",
       "        text-align: right;\n",
       "    }\n",
       "</style>\n",
       "<table border=\"1\" class=\"dataframe\">\n",
       "  <thead>\n",
       "    <tr style=\"text-align: right;\">\n",
       "      <th></th>\n",
       "      <th>DC</th>\n",
       "      <th>CAPACITY</th>\n",
       "    </tr>\n",
       "  </thead>\n",
       "  <tbody>\n",
       "    <tr>\n",
       "      <th>0</th>\n",
       "      <td>D1</td>\n",
       "      <td>450</td>\n",
       "    </tr>\n",
       "    <tr>\n",
       "      <th>1</th>\n",
       "      <td>D2</td>\n",
       "      <td>300</td>\n",
       "    </tr>\n",
       "  </tbody>\n",
       "</table>\n",
       "</div>"
      ],
      "text/plain": [
       "   DC  CAPACITY\n",
       "0  D1       450\n",
       "1  D2       300"
      ]
     },
     "execution_count": 9,
     "metadata": {},
     "output_type": "execute_result"
    }
   ],
   "source": [
    "# Cross-Docking Capacity\n",
    "df_t = pd.DataFrame({\n",
    "    'DC': ['D1','D2'],\n",
    "    'CAPACITY': [450, 300]\n",
    "})[['DC', 'CAPACITY']]\n",
    "df_t"
   ]
  },
  {
   "cell_type": "markdown",
   "id": "f7bc8f56",
   "metadata": {},
   "source": [
    "#### Demand Data"
   ]
  },
  {
   "cell_type": "code",
   "execution_count": 10,
   "id": "a9573ce3",
   "metadata": {},
   "outputs": [
    {
     "name": "stdout",
     "output_type": "stream",
     "text": [
      "31,806 total demand\n"
     ]
    },
    {
     "data": {
      "text/html": [
       "<div>\n",
       "<style scoped>\n",
       "    .dataframe tbody tr th:only-of-type {\n",
       "        vertical-align: middle;\n",
       "    }\n",
       "\n",
       "    .dataframe tbody tr th {\n",
       "        vertical-align: top;\n",
       "    }\n",
       "\n",
       "    .dataframe thead th {\n",
       "        text-align: right;\n",
       "    }\n",
       "</style>\n",
       "<table border=\"1\" class=\"dataframe\">\n",
       "  <thead>\n",
       "    <tr style=\"text-align: right;\">\n",
       "      <th></th>\n",
       "      <th>STORE</th>\n",
       "      <th>DEMAND</th>\n",
       "    </tr>\n",
       "  </thead>\n",
       "  <tbody>\n",
       "    <tr>\n",
       "      <th>0</th>\n",
       "      <td>D1</td>\n",
       "      <td>244</td>\n",
       "    </tr>\n",
       "    <tr>\n",
       "      <th>1</th>\n",
       "      <td>D2</td>\n",
       "      <td>172</td>\n",
       "    </tr>\n",
       "    <tr>\n",
       "      <th>2</th>\n",
       "      <td>D3</td>\n",
       "      <td>124</td>\n",
       "    </tr>\n",
       "    <tr>\n",
       "      <th>3</th>\n",
       "      <td>D4</td>\n",
       "      <td>90</td>\n",
       "    </tr>\n",
       "    <tr>\n",
       "      <th>4</th>\n",
       "      <td>D5</td>\n",
       "      <td>158</td>\n",
       "    </tr>\n",
       "  </tbody>\n",
       "</table>\n",
       "</div>"
      ],
      "text/plain": [
       "  STORE  DEMAND\n",
       "0    D1     244\n",
       "1    D2     172\n",
       "2    D3     124\n",
       "3    D4      90\n",
       "4    D5     158"
      ]
     },
     "execution_count": 10,
     "metadata": {},
     "output_type": "execute_result"
    }
   ],
   "source": [
    "# Demand\n",
    "df_demand = pd.read_csv('df_demand.csv', index_col = 0)\n",
    "print(\"{:,} total demand\".format(df_demand.DEMAND.sum()))\n",
    "df_demand.head()"
   ]
  },
  {
   "cell_type": "markdown",
   "id": "ccede74f",
   "metadata": {},
   "source": [
    "#### Optimization Model"
   ]
  },
  {
   "cell_type": "code",
   "execution_count": 84,
   "id": "4e7a5cd6",
   "metadata": {},
   "outputs": [
    {
     "name": "stdout",
     "output_type": "stream",
     "text": [
      "Optimal\n",
      "Objective: z* = 217189.3199999999\n"
     ]
    }
   ],
   "source": [
    "\n",
    "model = LpProblem(\"Transhipment_Problem\", LpMinimize)\n",
    "\n",
    "\n",
    "# Inbound Flows\n",
    "I = LpVariable.dicts(\"I\", [(i+1,j+1) for i in range(2) for j in range(2)],\n",
    "                     lowBound=0, upBound=None, cat='Integer') # I(i,j) from plant i for platform j\n",
    "# Outbound Flows\n",
    "O = LpVariable.dicts(\"O\", [(i+1,j+1) for i in range(2) for j in range(200)],\n",
    "                     lowBound=0, upBound=None, cat='Integer') # O(i,j) from platform i for customer j\n",
    "\n",
    "\n",
    "# Total Transportation Cost\n",
    "model += lpSum([df_inbound.iloc[i,j+1] * I[i+1,j+1] for i in range(2) for j in range(2)]) + lpSum([df_outbound.iloc[i,j+1] * O[i+1,j+1] for i in range(2) for j in range(200)]) \n",
    "\n",
    "\n",
    "# Shipment from DCs higher than demand per store\n",
    "for j in range(200):\n",
    "    model += lpSum([O[i+1, j+1] for i in range(2)]) >= df_demand.loc[j,'DEMAND']\n",
    "# Conservation of the flow in the local DC (X-Docking Platform)\n",
    "for p in range(2):\n",
    "    model += lpSum([I[i+1, p+1] for i in range(2)]) == lpSum([O[p+1, j+1] for j in range(200)])\n",
    "# Solve Model\n",
    "status = model.solve()\n",
    "print(LpStatus[status])\n",
    "print(\"Objective: z* = {}\".format(\n",
    "    value(model.objective)))\n",
    "\n",
    "# Matrix result\n",
    "inbound, outbound = np.zeros([2,2]), np.zeros([2,200])\n",
    "for i in range(2):\n",
    "    for j in range(2):\n",
    "#         print(I[i+1, j+1].varValue, I[i+1, j+1].name)\n",
    "        inbound[i, j] = I[i+1, j+1].varValue\n",
    "for i in range(2):\n",
    "    for j in range(200):\n",
    "#         print(O[i+1, j+1].varValue, O[i+1, j+1].name)\n",
    "        outbound[i, j] = O[i+1, j+1].varValue"
   ]
  },
  {
   "cell_type": "markdown",
   "id": "5b41337f",
   "metadata": {},
   "source": [
    "## Resuts"
   ]
  },
  {
   "cell_type": "markdown",
   "id": "f8bbda7a",
   "metadata": {},
   "source": [
    "##### Inbound"
   ]
  },
  {
   "cell_type": "markdown",
   "id": "b8bc30b5",
   "metadata": {},
   "source": [
    "#### df_resin = pd.DataFrame(data = inbound, index =['P' + str(i+1) for i in range(2)], \n",
    "                        columns = ['D' + str(i+1) for i in range(2)]).astype(int)\n",
    "df_resin.to_csv('df_inbound_flow.csv')\n",
    "df_resin"
   ]
  },
  {
   "cell_type": "markdown",
   "id": "f0a2ba1e",
   "metadata": {},
   "source": [
    "##### Outbound"
   ]
  },
  {
   "cell_type": "code",
   "execution_count": 58,
   "id": "4ac854b1",
   "metadata": {},
   "outputs": [
    {
     "data": {
      "text/html": [
       "<div>\n",
       "<style scoped>\n",
       "    .dataframe tbody tr th:only-of-type {\n",
       "        vertical-align: middle;\n",
       "    }\n",
       "\n",
       "    .dataframe tbody tr th {\n",
       "        vertical-align: top;\n",
       "    }\n",
       "\n",
       "    .dataframe thead th {\n",
       "        text-align: right;\n",
       "    }\n",
       "</style>\n",
       "<table border=\"1\" class=\"dataframe\">\n",
       "  <thead>\n",
       "    <tr style=\"text-align: right;\">\n",
       "      <th></th>\n",
       "      <th>S1</th>\n",
       "      <th>S2</th>\n",
       "      <th>S3</th>\n",
       "      <th>S4</th>\n",
       "      <th>S5</th>\n",
       "      <th>S6</th>\n",
       "      <th>S7</th>\n",
       "      <th>S8</th>\n",
       "      <th>S9</th>\n",
       "      <th>S10</th>\n",
       "      <th>...</th>\n",
       "      <th>S192</th>\n",
       "      <th>S193</th>\n",
       "      <th>S194</th>\n",
       "      <th>S195</th>\n",
       "      <th>S196</th>\n",
       "      <th>S197</th>\n",
       "      <th>S198</th>\n",
       "      <th>S199</th>\n",
       "      <th>S200</th>\n",
       "      <th>from</th>\n",
       "    </tr>\n",
       "  </thead>\n",
       "  <tbody>\n",
       "    <tr>\n",
       "      <th>0</th>\n",
       "      <td>244.0</td>\n",
       "      <td>172.0</td>\n",
       "      <td>124.0</td>\n",
       "      <td>90.0</td>\n",
       "      <td>158.0</td>\n",
       "      <td>175.0</td>\n",
       "      <td>0.0</td>\n",
       "      <td>223.0</td>\n",
       "      <td>123.0</td>\n",
       "      <td>0.0</td>\n",
       "      <td>...</td>\n",
       "      <td>0.0</td>\n",
       "      <td>99.0</td>\n",
       "      <td>178.0</td>\n",
       "      <td>47.0</td>\n",
       "      <td>57.0</td>\n",
       "      <td>52.0</td>\n",
       "      <td>0.0</td>\n",
       "      <td>70.0</td>\n",
       "      <td>0.0</td>\n",
       "      <td>D1</td>\n",
       "    </tr>\n",
       "    <tr>\n",
       "      <th>1</th>\n",
       "      <td>0.0</td>\n",
       "      <td>0.0</td>\n",
       "      <td>0.0</td>\n",
       "      <td>0.0</td>\n",
       "      <td>0.0</td>\n",
       "      <td>0.0</td>\n",
       "      <td>269.0</td>\n",
       "      <td>0.0</td>\n",
       "      <td>0.0</td>\n",
       "      <td>129.0</td>\n",
       "      <td>...</td>\n",
       "      <td>39.0</td>\n",
       "      <td>0.0</td>\n",
       "      <td>0.0</td>\n",
       "      <td>0.0</td>\n",
       "      <td>0.0</td>\n",
       "      <td>0.0</td>\n",
       "      <td>243.0</td>\n",
       "      <td>0.0</td>\n",
       "      <td>50.0</td>\n",
       "      <td>D2</td>\n",
       "    </tr>\n",
       "  </tbody>\n",
       "</table>\n",
       "<p>2 rows × 201 columns</p>\n",
       "</div>"
      ],
      "text/plain": [
       "      S1     S2     S3    S4     S5     S6     S7     S8     S9    S10  ...  \\\n",
       "0  244.0  172.0  124.0  90.0  158.0  175.0    0.0  223.0  123.0    0.0  ...   \n",
       "1    0.0    0.0    0.0   0.0    0.0    0.0  269.0    0.0    0.0  129.0  ...   \n",
       "\n",
       "   S192  S193   S194  S195  S196  S197   S198  S199  S200  from  \n",
       "0   0.0  99.0  178.0  47.0  57.0  52.0    0.0  70.0   0.0    D1  \n",
       "1  39.0   0.0    0.0   0.0   0.0   0.0  243.0   0.0  50.0    D2  \n",
       "\n",
       "[2 rows x 201 columns]"
      ]
     },
     "execution_count": 58,
     "metadata": {},
     "output_type": "execute_result"
    }
   ],
   "source": [
    "df_resout = pd.DataFrame(data = outbound, index =[str(i) for i in range(2)], \n",
    "                        columns = ['S' + str(i+1) for i in range(200)])\n",
    "df_resultsT=np.transpose(df_resout.T)\n",
    "df_resultsT['from'] = ['D1','D2']\n",
    "df_resultsT"
   ]
  },
  {
   "cell_type": "code",
   "execution_count": 62,
   "id": "d1a5f0bf",
   "metadata": {},
   "outputs": [
    {
     "name": "stdout",
     "output_type": "stream",
     "text": [
      "400 records\n"
     ]
    },
    {
     "data": {
      "text/html": [
       "<div>\n",
       "<style scoped>\n",
       "    .dataframe tbody tr th:only-of-type {\n",
       "        vertical-align: middle;\n",
       "    }\n",
       "\n",
       "    .dataframe tbody tr th {\n",
       "        vertical-align: top;\n",
       "    }\n",
       "\n",
       "    .dataframe thead th {\n",
       "        text-align: right;\n",
       "    }\n",
       "</style>\n",
       "<table border=\"1\" class=\"dataframe\">\n",
       "  <thead>\n",
       "    <tr style=\"text-align: right;\">\n",
       "      <th></th>\n",
       "      <th>index</th>\n",
       "      <th>from</th>\n",
       "      <th>value</th>\n",
       "    </tr>\n",
       "  </thead>\n",
       "  <tbody>\n",
       "    <tr>\n",
       "      <th>0</th>\n",
       "      <td>S1</td>\n",
       "      <td>D1</td>\n",
       "      <td>244.0</td>\n",
       "    </tr>\n",
       "    <tr>\n",
       "      <th>1</th>\n",
       "      <td>S2</td>\n",
       "      <td>D1</td>\n",
       "      <td>172.0</td>\n",
       "    </tr>\n",
       "    <tr>\n",
       "      <th>2</th>\n",
       "      <td>S3</td>\n",
       "      <td>D1</td>\n",
       "      <td>124.0</td>\n",
       "    </tr>\n",
       "    <tr>\n",
       "      <th>3</th>\n",
       "      <td>S4</td>\n",
       "      <td>D1</td>\n",
       "      <td>90.0</td>\n",
       "    </tr>\n",
       "    <tr>\n",
       "      <th>4</th>\n",
       "      <td>S5</td>\n",
       "      <td>D1</td>\n",
       "      <td>158.0</td>\n",
       "    </tr>\n",
       "  </tbody>\n",
       "</table>\n",
       "</div>"
      ],
      "text/plain": [
       "  index from  value\n",
       "0    S1   D1  244.0\n",
       "1    S2   D1  172.0\n",
       "2    S3   D1  124.0\n",
       "3    S4   D1   90.0\n",
       "4    S5   D1  158.0"
      ]
     },
     "execution_count": 62,
     "metadata": {},
     "output_type": "execute_result"
    }
   ],
   "source": [
    "df_meltT = pd.melt(df_resultsT.set_index('from').T.reset_index(), id_vars=['index'], value_vars=['D1', 'D2'])\n",
    "print(\"{:,} records\".format(len(df_melt)))\n",
    "df_meltT.head()"
   ]
  },
  {
   "cell_type": "code",
   "execution_count": 83,
   "id": "f49d131a",
   "metadata": {},
   "outputs": [
    {
     "data": {
      "image/png": "[encoded data removed]",
      "text/plain": [
       "<Figure size 864x432 with 1 Axes>"
      ]
     },
     "metadata": {
      "needs_background": "light"
     },
     "output_type": "display_data"
    }
   ],
   "source": [
    "plt.figure(figsize=(12, 6))\n",
    "ax = sns.boxplot(x='from', y='value', data=df_meltT, color='#99c2a2')\n",
    "plt.xlabel('Distribution Center')\n",
    "plt.ylabel('Outbound Transportation Distribution Costs ($/batch)')\n",
    "plt.show()"
   ]
  },
  {
   "cell_type": "markdown",
   "id": "173127bf",
   "metadata": {},
   "source": [
    "### Results Discussion\n",
    "\n",
    "The output show that the model configures the cheapest route P2 with D1 and P1 with D2 by considering the capacity and minimizing the cost. As expected, more than 90% of the output flow is going through D1 to minimize total outbound cost.\n",
    "163 stores are delivered by D1 and 0 stores are delivered by both the distribution centres D1 and D2."
   ]
  },
  {
   "cell_type": "markdown",
   "id": "aa16aa7f",
   "metadata": {},
   "source": [
    "## Conclusion\n",
    "\n",
    "Optimal solution was achieved showing the most optimal routes for the minimum cost. Usually delivery through the most optimal route is avoided. With this simple optimization model, large scale optimization can be performed by simple rules. It can also be seen in data how transportation cost varies from the input data cost and how each store is delivered product by one distribution centre only.\n",
    "\n",
    "## Way Forward\n",
    "1- One of the way forward can be done by adding operational constraints to minimize the production cost in plants. <br>\n",
    "2- By adding maximal X-docking capacity in distribution centres, the maximize docking space. <br>\n",
    "3- By introducing fixed/variable cost structures in distribution centres and fixed + variable transportation cost structures. <br>\n",
    "limitations that the type of optimization can be done linearly only.\n",
    "\n",
    "\n",
    "\n"
   ]
  },
  {
   "cell_type": "markdown",
   "id": "72e0e866",
   "metadata": {},
   "source": [
    "## References\n",
    "1- University of Tennessee, Knoxville Trace: Tennessee ... (n.d.). Retrieved December 8, 2021, from https://trace.tennessee.edu/cgi/viewcontent.cgi?referer=&amp;httpsredir=1&amp;article=2704&amp;context=utk_graddiss. <br>\n",
    "2- Inda Sukati; Abu Bakar Hamid; Rohaizat Baharun; Rosman Md Yusoff (2012). The Study of Supply Chain Management Strategy and Practices on Supply Chain Performance. , 40(none), –. doi:10.1016/j.sbspro.2012.03.185 <br>\n",
    "3- Arisha, A., Abo-Hamad, A.: Optimisation Methods in Supply Chain Applications: a Review.12th Annual Conference of the IrishAcademy of Management, Galway Mayo Institute of Technology, Galway, 2-4 September 2009. <br>\n",
    "4- What is supply chain optimization? definition and faqs. OmniSci. (n.d.). Retrieved December 7, 2021, from https://www.omnisci.com/technical-glossary/supply-chain-optimization. <br>\n",
    "5- Saci, S. (2021, December 5). Supply planning using linear programming with python. Medium. Retrieved December 7, 2021, from https://towardsdatascience.com/supply-planning-using-linear-programming-with-python-bff2401bf270. <br>"
   ]
  },
  {
   "cell_type": "code",
   "execution_count": null,
   "id": "33cfe604",
   "metadata": {},
   "outputs": [],
   "source": []
  }
 ],
 "metadata": {
  "kernelspec": {
   "display_name": "Python 3",
   "language": "python",
   "name": "python3"
  },
  "language_info": {
   "codemirror_mode": {
    "name": "ipython",
    "version": 3
   },
   "file_extension": ".py",
   "mimetype": "text/x-python",
   "name": "python",
   "nbconvert_exporter": "python",
   "pygments_lexer": "ipython3",
   "version": "3.8.8"
  }
 },
 "nbformat": 4,
 "nbformat_minor": 5
}
